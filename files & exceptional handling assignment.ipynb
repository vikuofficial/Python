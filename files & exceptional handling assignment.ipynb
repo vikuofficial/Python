{
 "cells": [
  {
   "cell_type": "markdown",
   "id": "698a5c0a-f28a-4ea1-a13b-148539c8ad1d",
   "metadata": {
    "id": "698a5c0a-f28a-4ea1-a13b-148539c8ad1d"
   },
   "source": [
    "<h2 style=\"font-size:32px;\">Theoritical:</h2>"
   ]
  },
  {
   "cell_type": "markdown",
   "id": "91223eda-b1e5-4875-9606-6932e5c267b4",
   "metadata": {
    "id": "91223eda-b1e5-4875-9606-6932e5c267b4"
   },
   "source": [
    "<h2 style=\"font-size:20px;\">1) What is the difference between interpreted and compiled languages?</h2>"
   ]
  },
  {
   "cell_type": "markdown",
   "id": "86f6e52a-7c3a-4b35-9662-67a2fc62ece8",
   "metadata": {
    "id": "86f6e52a-7c3a-4b35-9662-67a2fc62ece8"
   },
   "source": [
    "• Interpreted language is a type of programming language for which most of its\n",
    "implementation execute instructions directly and freely, without previously compiling a\n",
    "program into machine-language instructions.\n",
    "\n",
    "• Compiled language is a programming\n",
    "language whose implementations are typically compilers which converts the source code\n",
    "to machine code."
   ]
  },
  {
   "cell_type": "markdown",
   "id": "957a8699-0a2a-4945-a0c6-d888580ecef9",
   "metadata": {
    "id": "957a8699-0a2a-4945-a0c6-d888580ecef9"
   },
   "source": [
    "<h2 style=\"font-size:20px;\">2) What is exception handling in Python?</h2>"
   ]
  },
  {
   "cell_type": "markdown",
   "id": "64b5aaa3-374c-40a0-8128-8ad0ad3ffa32",
   "metadata": {
    "id": "64b5aaa3-374c-40a0-8128-8ad0ad3ffa32"
   },
   "source": [
    "* Exception handling in Python is a mechanism to gracefully handle errors or unexpected situations that occur during the execution of a program, without crashing the program."
   ]
  },
  {
   "cell_type": "markdown",
   "id": "5bdded7c-a80e-46fb-a71f-f96ee65d1662",
   "metadata": {
    "id": "5bdded7c-a80e-46fb-a71f-f96ee65d1662"
   },
   "source": [
    "<h2 style=\"font-size:20px;\">3) What is the purpose of the finally block in exception handling?</h2>"
   ]
  },
  {
   "cell_type": "markdown",
   "id": "ce7c247c-fb31-44a9-93ea-e51c48cc057a",
   "metadata": {
    "id": "ce7c247c-fb31-44a9-93ea-e51c48cc057a"
   },
   "source": [
    "* The purpose of the finally block in exception handling is to write code that must be\n",
    "executed regardless of whether the try block generates an error."
   ]
  },
  {
   "cell_type": "markdown",
   "id": "ff4e8215-8031-4ab6-a978-bc72853485ea",
   "metadata": {
    "id": "ff4e8215-8031-4ab6-a978-bc72853485ea"
   },
   "source": [
    "<h2 style=\"font-size:20px;\">4) What is logging in Python?</h2>"
   ]
  },
  {
   "cell_type": "markdown",
   "id": "ee82f41d-77d9-421d-9f6f-2432c382587c",
   "metadata": {
    "id": "ee82f41d-77d9-421d-9f6f-2432c382587c"
   },
   "source": [
    "* Logging in Python is a built-in module used to track events that happen while your program runs. It helps you record messages, errors, or other information to understand program behavior, debug issues, and maintain applications efficiently."
   ]
  },
  {
   "cell_type": "markdown",
   "id": "fd27a378-4a41-4c3f-89af-5ece7523103c",
   "metadata": {
    "id": "fd27a378-4a41-4c3f-89af-5ece7523103c"
   },
   "source": [
    "<h2 style=\"font-size:20px;\">5) What is the significance of the __del__ method in Python?</h2>"
   ]
  },
  {
   "cell_type": "markdown",
   "id": "8ad27e1a-6636-4937-8f67-c34114f9c26c",
   "metadata": {
    "id": "8ad27e1a-6636-4937-8f67-c34114f9c26c"
   },
   "source": [
    "* The __del__ method in Python is a destructor. It is called automatically when an object is about to be destroyed, i.e., when it is no longer in use or goes out of scope. The main purpose of __del__ is to perform cleanup actions like releasing memory, closing files, or disconnecting from a database."
   ]
  },
  {
   "cell_type": "markdown",
   "id": "9708c4d2-fbe5-47bf-a68e-2299a8117795",
   "metadata": {
    "id": "9708c4d2-fbe5-47bf-a68e-2299a8117795"
   },
   "source": [
    "<h2 style=\"font-size:20px;\">6) What is the difference between import and from ... import in Python?\n",
    "</h2>"
   ]
  },
  {
   "cell_type": "markdown",
   "id": "e571feeb-ae2d-4a2c-aaf8-7f300507002c",
   "metadata": {
    "id": "e571feeb-ae2d-4a2c-aaf8-7f300507002c"
   },
   "source": [
    "* The import statement is used to import a module or a module's attribute into the current\n",
    "namespace whereas from ...import statement is used to import specific attributes from a\n",
    "module into the current namespace."
   ]
  },
  {
   "cell_type": "markdown",
   "id": "335a432f-6024-4813-a432-f01ebb4edb20",
   "metadata": {
    "id": "335a432f-6024-4813-a432-f01ebb4edb20"
   },
   "source": [
    "<h2 style=\"font-size:20px;\">7) How can you handle multiple exceptions in Python?</h2>"
   ]
  },
  {
   "cell_type": "markdown",
   "id": "ab3faf84-ae97-4ae0-b6e9-d977604cde84",
   "metadata": {
    "id": "ab3faf84-ae97-4ae0-b6e9-d977604cde84"
   },
   "source": [
    "In Python, you can handle multiple exceptions by using:\n",
    "\n",
    "* Multiple except blocks\n",
    "\n",
    "* A single except block handling multiple exception types."
   ]
  },
  {
   "cell_type": "code",
   "execution_count": null,
   "id": "bce0031b-2cd9-4434-9363-332667464ca7",
   "metadata": {
    "id": "bce0031b-2cd9-4434-9363-332667464ca7"
   },
   "outputs": [],
   "source": [
    "try:\n",
    "    x = int(input(\"Enter a number: \"))\n",
    "    y = 10 / x\n",
    "except ValueError:\n",
    "    print(\"Invalid input! Please enter a number.\")\n",
    "except ZeroDivisionError:\n",
    "    print(\"Cannot divide by zero.\")"
   ]
  },
  {
   "cell_type": "markdown",
   "id": "c146b79c-e321-4a98-aba7-7561658caf81",
   "metadata": {
    "id": "c146b79c-e321-4a98-aba7-7561658caf81"
   },
   "source": [
    "<h2 style=\"font-size:20px;\">8) What is the purpose of the with statement when handling files in Python?</h2>"
   ]
  },
  {
   "cell_type": "markdown",
   "id": "3338f282-103a-49c7-85ef-73d6d04c68a9",
   "metadata": {
    "id": "3338f282-103a-49c7-85ef-73d6d04c68a9"
   },
   "source": [
    "* The with statement in Python is used for simpler, cleaner, and safer handling of resources like files. It is often used with file operations to ensure that the file is automatically closed after the block of code is executed — even if an error occurs during execution."
   ]
  },
  {
   "cell_type": "markdown",
   "id": "c6abe145-b03b-4d67-8c38-221c8933fd4e",
   "metadata": {
    "id": "c6abe145-b03b-4d67-8c38-221c8933fd4e"
   },
   "source": [
    "<h2 style=\"font-size:20px;\">9) What is the difference between multithreading and multiprocessing?</h2>"
   ]
  },
  {
   "cell_type": "markdown",
   "id": "e4db1648-c945-4e3d-82e2-e5919e2c3214",
   "metadata": {
    "id": "e4db1648-c945-4e3d-82e2-e5919e2c3214"
   },
   "source": [
    "* Multithreading - It is a technique where multiple threads are generated by a single\n",
    "process at the same time and implements concurrency.\n",
    "* Multiprocessing - It is a\n",
    "technique where multiple processes run across multiple cores at the same time and\n",
    "implements parallelism."
   ]
  },
  {
   "cell_type": "markdown",
   "id": "0a37f087-0d3a-4aaf-82f8-fc13f88bda90",
   "metadata": {
    "id": "0a37f087-0d3a-4aaf-82f8-fc13f88bda90"
   },
   "source": [
    "<h2 style=\"font-size:20px;\">10) What are the advantages of using logging in a program?</h2>"
   ]
  },
  {
   "cell_type": "markdown",
   "id": "be0a7a3e-150a-47a8-adcc-e553b6c50a55",
   "metadata": {
    "id": "be0a7a3e-150a-47a8-adcc-e553b6c50a55"
   },
   "source": [
    "* Logging is a powerful tool for monitoring and debugging applications. Instead of using print() statements, logging provides a structured and flexible way to track events, detect problems, and maintain code efficiently."
   ]
  },
  {
   "cell_type": "markdown",
   "id": "7c31ca6f-9b2f-43ae-a9f9-02af7fd4aabc",
   "metadata": {
    "id": "7c31ca6f-9b2f-43ae-a9f9-02af7fd4aabc"
   },
   "source": [
    "<h2 style=\"font-size:20px;\">11) What is memory management in Python?</h2>"
   ]
  },
  {
   "cell_type": "markdown",
   "id": "97e6ef4b-cd27-4792-9aa5-8d760d877996",
   "metadata": {
    "id": "97e6ef4b-cd27-4792-9aa5-8d760d877996"
   },
   "source": [
    "* Memory management in python is the process of allocating and dealing with memory so\n",
    "that the program can run efficiently. One advantage to python, compared to other\n",
    "programming languages, is that it can perform memory management tasks\n",
    "automatically."
   ]
  },
  {
   "cell_type": "markdown",
   "id": "a46d24c6-5d12-4052-ae84-e855ea166d26",
   "metadata": {
    "id": "a46d24c6-5d12-4052-ae84-e855ea166d26"
   },
   "source": [
    "<h2 style=\"font-size:20px;\">12) What are the basic steps involved in exception handling in Python?</h2>"
   ]
  },
  {
   "cell_type": "markdown",
   "id": "231d1499-5607-44e0-971a-6579d2c11f3a",
   "metadata": {
    "id": "231d1499-5607-44e0-971a-6579d2c11f3a"
   },
   "source": [
    "The basics steps involved in exception handling in python are:\n",
    "\n",
    "* Use try and except block : To handle exceptions, we must utilise the try and except\n",
    "blocks. Define dangerous code that can throw an exception inside the try block and\n",
    "related handling code inside the except block.\n",
    "\n",
    "* Using try with finally : The finally block in python is used in conjucation with the try block\n",
    "statement. The finally block is used to write code that must be excecuted regardless of\n",
    "whether the try block generates an error.\n",
    "\n",
    "* Use try with else : Use the else statement in conjucation with try block. If want to run a\n",
    "specific code only if an exception is not produced."
   ]
  },
  {
   "cell_type": "code",
   "execution_count": null,
   "id": "5867d33a-8b48-4df0-9102-c66db80f449b",
   "metadata": {
    "id": "5867d33a-8b48-4df0-9102-c66db80f449b"
   },
   "outputs": [],
   "source": [
    "#Example:\n",
    "try:\n",
    "    with open(\"data.txt\",\"r\") as file:\n",
    "        content = file.read()\n",
    "except FileNotFoundError:\n",
    "    print(\"file is not present in the OS\")\n",
    "else:\n",
    "    print(content)\n",
    "finally:\n",
    "    print(\"exec comp\")"
   ]
  },
  {
   "cell_type": "markdown",
   "id": "50ca3219-4641-43d6-ab90-5d9c3b70c7ad",
   "metadata": {
    "id": "50ca3219-4641-43d6-ab90-5d9c3b70c7ad"
   },
   "source": [
    "<h2 style=\"font-size:20px;\">13) Why is memory management important in Python?</h2>"
   ]
  },
  {
   "cell_type": "markdown",
   "id": "64be98fa-30e7-46df-b471-65bb50690491",
   "metadata": {
    "id": "64be98fa-30e7-46df-b471-65bb50690491"
   },
   "source": [
    "* Memory management is crucial in Python (or any programming language) because it ensures that your program uses system memory efficiently, avoids memory leaks, and runs smoothly and reliably, especially in large or long-running applications."
   ]
  },
  {
   "cell_type": "markdown",
   "id": "f5897197-6372-44c5-83aa-36b3e241d842",
   "metadata": {
    "id": "f5897197-6372-44c5-83aa-36b3e241d842"
   },
   "source": [
    "<h2 style=\"font-size:20px;\">14) What is the role of try and except in exception handling?</h2>"
   ]
  },
  {
   "cell_type": "markdown",
   "id": "ce0bf60e-1e48-46e5-86b8-72c5628d1aa4",
   "metadata": {
    "id": "ce0bf60e-1e48-46e5-86b8-72c5628d1aa4"
   },
   "source": [
    "* The role of try and except in exception handling is to allow to catch and handle errors\n",
    "gracefully without crashing the program. The try block contains code that might raise an\n",
    "exception and the except block catches and handles the exception if one occurs."
   ]
  },
  {
   "cell_type": "markdown",
   "id": "0f90f82f-e206-498d-9af2-b661e37d148c",
   "metadata": {
    "id": "0f90f82f-e206-498d-9af2-b661e37d148c"
   },
   "source": [
    "<h2 style=\"font-size:20px;\">15) How does Python's garbage collection system work?</h2>"
   ]
  },
  {
   "cell_type": "markdown",
   "id": "76f32912-2b53-4100-a063-1e77d08eb772",
   "metadata": {
    "id": "76f32912-2b53-4100-a063-1e77d08eb772"
   },
   "source": [
    "* Python's garbage collection system work by automatically cleans up any unused objects\n",
    "based on reference counting and object allocation and deallocation. This also helps\n",
    "periodically clear up memory space to help a program run more smoothly."
   ]
  },
  {
   "cell_type": "markdown",
   "id": "d62eb0df-d5cb-475e-8a3a-550ec2f09d3d",
   "metadata": {
    "id": "d62eb0df-d5cb-475e-8a3a-550ec2f09d3d"
   },
   "source": [
    "<h2 style=\"font-size:20px;\">16) What is the purpose of the else block in exception handling?</h2>"
   ]
  },
  {
   "cell_type": "markdown",
   "id": "a7457ffb-a819-4d17-b96f-a830997d5e06",
   "metadata": {
    "id": "a7457ffb-a819-4d17-b96f-a830997d5e06"
   },
   "source": [
    "* The purpose of the else block in exception handling is to help when the code didn't enter\n",
    "the exception block. It separates the normal logic that should run only when everything\n",
    "goes well in the try block."
   ]
  },
  {
   "cell_type": "markdown",
   "id": "ee85eb8e-06dc-49f2-ae3a-dc443f5b948c",
   "metadata": {
    "id": "ee85eb8e-06dc-49f2-ae3a-dc443f5b948c"
   },
   "source": [
    "<h2 style=\"font-size:20px;\">17) What are the common logging levels in Python?</h2>"
   ]
  },
  {
   "cell_type": "markdown",
   "id": "b2b9d12f-98eb-4f72-93b3-07780a633392",
   "metadata": {
    "id": "b2b9d12f-98eb-4f72-93b3-07780a633392"
   },
   "source": [
    "The common logging levels in python are:\n",
    "\n",
    "1-DEBUG : To give detailed information of any variable, message while doing debugging.\n",
    "\n",
    "2-INFO : This is used to convey that the code is working as expected.\n",
    "\n",
    "3-WARNING : Used to indicate that something unexpected happened or potential issues in\n",
    "code.\n",
    "\n",
    "4-ERROR : Serious problem with some function.\n",
    "\n",
    "5-CRITICAL : Terminal of program/code/software."
   ]
  },
  {
   "cell_type": "markdown",
   "id": "92aa2ee5-045a-404a-9549-223a3bccdbbb",
   "metadata": {
    "id": "92aa2ee5-045a-404a-9549-223a3bccdbbb"
   },
   "source": [
    "<h2 style=\"font-size:20px;\">18) What is the difference between os.fork() and multiprocessing in Python?</h2>"
   ]
  },
  {
   "cell_type": "markdown",
   "id": "59f9f849-f0f4-4ebb-b3a7-9dffcfc98a6f",
   "metadata": {
    "id": "59f9f849-f0f4-4ebb-b3a7-9dffcfc98a6f"
   },
   "source": [
    "* os.fork(): This is system call that creates a new process by duplicating the calling process.\n",
    "The new process is an almost exact copy of parent process. This is low-level way to\n",
    "create processes and is only available in Unix-like systems.\n",
    "\n",
    "* Multiprocessing: This is the higher level, cross-platform module in python that provides\n",
    "an API for creating and managing processes. It is generally preffered way to achieve\n",
    "parrallelism in python or various opearting systems."
   ]
  },
  {
   "cell_type": "markdown",
   "id": "a50fec5c-086f-42db-ac23-fe0b152d4bb4",
   "metadata": {
    "id": "a50fec5c-086f-42db-ac23-fe0b152d4bb4"
   },
   "source": [
    "<h2 style=\"font-size:20px;\">19) What is the importance of closing a file in Python?</h2>"
   ]
  },
  {
   "cell_type": "markdown",
   "id": "9897acdc-a550-404e-864a-23d6ab1c2342",
   "metadata": {
    "id": "9897acdc-a550-404e-864a-23d6ab1c2342"
   },
   "source": [
    "* The importance of closing a file in python is an essential practice that helps maintain data\n",
    "integrity, prevent resource leaks and ensure the reliability of the program."
   ]
  },
  {
   "cell_type": "markdown",
   "id": "9d38ae3c-d096-47b1-a499-50516242090e",
   "metadata": {
    "id": "9d38ae3c-d096-47b1-a499-50516242090e"
   },
   "source": [
    "<h2 style=\"font-size:20px;\">20) What is the difference between file.read() and file.readline() in Python?</h2>"
   ]
  },
  {
   "cell_type": "markdown",
   "id": "23e2d1a1-818c-4fdb-86c0-303dd13fa0f5",
   "metadata": {
    "id": "23e2d1a1-818c-4fdb-86c0-303dd13fa0f5"
   },
   "source": [
    "* f.read() will read everything from starting whereas file.readline() will only read the first\n",
    "line."
   ]
  },
  {
   "cell_type": "markdown",
   "id": "fd0edfbb-2df1-46be-9b4f-7ed85568fc36",
   "metadata": {
    "id": "fd0edfbb-2df1-46be-9b4f-7ed85568fc36"
   },
   "source": [
    "<h2 style=\"font-size:20px;\">21) What is the logging module in Python used for?</h2>"
   ]
  },
  {
   "cell_type": "markdown",
   "id": "1b37e201-f10a-4b56-9517-3d82f664d635",
   "metadata": {
    "id": "1b37e201-f10a-4b56-9517-3d82f664d635"
   },
   "source": [
    "* The logging module in Python is used to record messages that describe what is happening in a program. It helps developers track the flow, catch bugs, and monitor system behavior — especially in larger or production-level applications."
   ]
  },
  {
   "cell_type": "markdown",
   "id": "a93f752c-b8e9-4c20-9726-3e4739d2ed81",
   "metadata": {
    "id": "a93f752c-b8e9-4c20-9726-3e4739d2ed81"
   },
   "source": [
    "<h2 style=\"font-size:20px;\">22) What is the os module in Python used for in file handling?</h2>"
   ]
  },
  {
   "cell_type": "markdown",
   "id": "c6ff2d27-8262-439f-90d6-e6d5f03341b7",
   "metadata": {
    "id": "c6ff2d27-8262-439f-90d6-e6d5f03341b7"
   },
   "source": [
    "* The os module in python used for in file handling as it provides functionality to interact\n",
    "with the operating system."
   ]
  },
  {
   "cell_type": "markdown",
   "id": "efaf7df5-d7f6-4501-ad9e-d3d1c7935146",
   "metadata": {
    "id": "efaf7df5-d7f6-4501-ad9e-d3d1c7935146"
   },
   "source": [
    "<h2 style=\"font-size:20px;\">23) What are the challenges associated with memory management in Python?</h2>"
   ]
  },
  {
   "cell_type": "markdown",
   "id": "bdc50788-d374-452a-96b9-fcd4ed764ce1",
   "metadata": {
    "id": "bdc50788-d374-452a-96b9-fcd4ed764ce1"
   },
   "source": [
    " The challenges associated with memory management in python are:\n",
    "* Global Interpreter Lock ( GIL) Python(specifically CPython) uses a Global Interpreter\n",
    "Lock, which restricts execution to one thread at a time, even on multi-core processsors.\n",
    "This limits true parrallelism in memory-intensive, multi-threade applications.\n",
    "* Although Python has automatic garbage collection, memory leaks can still happen due to\n",
    "unintentional and circular references that the garbage collector does not clean up\n",
    "efficiency."
   ]
  },
  {
   "cell_type": "markdown",
   "id": "6c986d17-3f5e-4170-8d4f-05118f2f3241",
   "metadata": {
    "id": "6c986d17-3f5e-4170-8d4f-05118f2f3241"
   },
   "source": [
    "<h2 style=\"font-size:20px;\">24) How do you raise an exception manually in Python?</h2>"
   ]
  },
  {
   "cell_type": "markdown",
   "id": "7eccf311-c407-40ce-a08b-f638b821ab87",
   "metadata": {
    "id": "7eccf311-c407-40ce-a08b-f638b821ab87"
   },
   "source": [
    "* We can raise an exception manually in python by using the raise statement. This is useful\n",
    "when you want to trigger an error intentionally, for example , to enforce a rule or validate\n",
    "input."
   ]
  },
  {
   "cell_type": "markdown",
   "id": "3fbe3463-f59f-41c6-b950-ac06f4c8795b",
   "metadata": {
    "id": "3fbe3463-f59f-41c6-b950-ac06f4c8795b"
   },
   "source": [
    "<h2 style=\"font-size:20px;\">25) Why is it important to use multithreading in certain applications?</h2>"
   ]
  },
  {
   "cell_type": "markdown",
   "id": "da732276-3031-4c02-a057-912bca451c63",
   "metadata": {
    "id": "da732276-3031-4c02-a057-912bca451c63"
   },
   "source": [
    "* Multithreading is important when you want to make your application more efficient, responsive, or capable of doing multiple tasks at once. It allows different parts (threads) of your program to run simultaneously, especially in I/O-bound tasks."
   ]
  },
  {
   "cell_type": "markdown",
   "id": "9a9221e8-80e8-41aa-8fd7-e6cb38a41927",
   "metadata": {
    "id": "9a9221e8-80e8-41aa-8fd7-e6cb38a41927"
   },
   "source": [
    "<h2 style=\"font-size:32px;\">Practical:</h2>"
   ]
  },
  {
   "cell_type": "code",
   "execution_count": null,
   "id": "64e57372-8f24-4300-8079-bc52c4c994d3",
   "metadata": {
    "id": "64e57372-8f24-4300-8079-bc52c4c994d3",
    "outputId": "8ebf058a-3bc1-4b90-88ce-dfffef7f4e71"
   },
   "outputs": [
    {
     "name": "stdout",
     "output_type": "stream",
     "text": [
      "This is Anand Bharadwaj\n"
     ]
    }
   ],
   "source": [
    "#1) How can you open a file for writing in Python and write a string to it?\n",
    "with open(\"file.txt\" , \"w\") as f:\n",
    "    f.write(\"This is Anand Bharadwaj\")\n",
    "with open(\"file.txt\" , \"r\") as f:\n",
    "    Test = f.read()\n",
    "    print(Test)"
   ]
  },
  {
   "cell_type": "code",
   "execution_count": null,
   "id": "0ac94186-151a-48b4-a9fa-7e4fa26a0c4e",
   "metadata": {
    "id": "0ac94186-151a-48b4-a9fa-7e4fa26a0c4e",
    "outputId": "1a0e5d0c-f0e2-4fa1-e9d2-ca3b34500e59"
   },
   "outputs": [
    {
     "name": "stdout",
     "output_type": "stream",
     "text": [
      "This is the First line\n",
      "This is the second line\n",
      "This is the third line\n",
      "\n"
     ]
    }
   ],
   "source": [
    "#2) Write a Python program to read the contents of a file and print each line.\n",
    "file = open(\"Test.txt\" , \"w\")\n",
    "file.write(\"This is the First line\\n\")\n",
    "file.write(\"This is the second line\\n\")\n",
    "file.write(\"This is the third line\\n\")\n",
    "file = open(\"Test.txt\" , \"r\")\n",
    "file.seek(0)\n",
    "print(file.read())"
   ]
  },
  {
   "cell_type": "code",
   "execution_count": null,
   "id": "ccee41a1-bf4f-4bf8-b607-f817ea9cd56e",
   "metadata": {
    "id": "ccee41a1-bf4f-4bf8-b607-f817ea9cd56e",
    "outputId": "1aa086dc-5074-451f-8bd2-023e48932e2b"
   },
   "outputs": [
    {
     "name": "stdout",
     "output_type": "stream",
     "text": [
      "❌ The file does not exist.\n"
     ]
    }
   ],
   "source": [
    "#3)  How would you handle a case where the file doesn't exist while trying to open it for reading?\n",
    "try:\n",
    "    with open(\"data.txt\", \"r\") as file:\n",
    "        content = file.read()\n",
    "        print(content)\n",
    "except FileNotFoundError:\n",
    "    print(\"❌ The file does not exist.\")"
   ]
  },
  {
   "cell_type": "code",
   "execution_count": null,
   "id": "3f09d24c-fe2a-4dff-933e-e0b1989c0028",
   "metadata": {
    "id": "3f09d24c-fe2a-4dff-933e-e0b1989c0028",
    "outputId": "86efebb7-61a0-4700-d7b6-29e15444690d"
   },
   "outputs": [
    {
     "name": "stdout",
     "output_type": "stream",
     "text": [
      "Hey,This is Anand Bharadwaj\n",
      "I'm a Data Engineer\n",
      "also a Entrepreneur \n",
      "\n",
      "✅ File copied successfully!\n"
     ]
    }
   ],
   "source": [
    "#4) Write a Python script that reads from one file and writes its content to another file.\n",
    "import os\n",
    "os.chdir(r\"C:\\Users\\unsta\\OneDrive\\Attachments\")\n",
    "with open(\"sample.txt\", \"r\") as source_file:\n",
    "    content = source_file.read()\n",
    "\n",
    "with open(\"destination.txt\", \"w\") as destination_file:\n",
    "    destination_file.write(content)\n",
    "with open(\"destination.txt\", \"r\") as destination_file:\n",
    "    print(destination_file.read())\n",
    "print(\"✅ File copied successfully!\")\n"
   ]
  },
  {
   "cell_type": "code",
   "execution_count": null,
   "id": "f012b37e-c121-4990-887d-20954a905591",
   "metadata": {
    "id": "f012b37e-c121-4990-887d-20954a905591",
    "outputId": "706b1ff4-19ca-42f4-e0f1-6b2d3e54ac89"
   },
   "outputs": [
    {
     "name": "stdin",
     "output_type": "stream",
     "text": [
      "Enter numerator:  10\n",
      "Enter denominator:  0\n"
     ]
    },
    {
     "name": "stdout",
     "output_type": "stream",
     "text": [
      "❌ Cannot divide by zero. Please enter a non-zero denominator.\n"
     ]
    }
   ],
   "source": [
    "#5) How would you catch and handle division by zero error in Python?\n",
    "try:\n",
    "    a = int(input(\"Enter numerator: \"))\n",
    "    b = int(input(\"Enter denominator: \"))\n",
    "    result = a / b\n",
    "    print(\"Result:\", result)\n",
    "\n",
    "except ZeroDivisionError:\n",
    "    print(\"❌ Cannot divide by zero. Please enter a non-zero denominator.\")"
   ]
  },
  {
   "cell_type": "code",
   "execution_count": null,
   "id": "b3651314-b786-4482-806e-24f5ecf5e002",
   "metadata": {
    "id": "b3651314-b786-4482-806e-24f5ecf5e002",
    "outputId": "92a7067b-cb67-4df7-8239-d6d59237b2fa"
   },
   "outputs": [
    {
     "name": "stdin",
     "output_type": "stream",
     "text": [
      "Enter numerator:  10\n",
      "Enter denominator:  0\n"
     ]
    },
    {
     "name": "stderr",
     "output_type": "stream",
     "text": [
      "ERROR - Division by zero attempted: division by zero\n"
     ]
    },
    {
     "name": "stdout",
     "output_type": "stream",
     "text": [
      "❌ Cannot divide by zero.\n"
     ]
    }
   ],
   "source": [
    "#6) Write a Python program that logs an error message to a log file when a division by zero exception occurs.\n",
    "import logging\n",
    "\n",
    "logging.basicConfig(level=logging.DEBUG,\n",
    "    format=\"%(levelname)s - %(message)s\" , handlers=[\n",
    "        logging.FileHandler(\"logfile.txt\"),\n",
    "        logging.StreamHandler()],force=True)\n",
    "try:\n",
    "    a = int(input(\"Enter numerator: \"))\n",
    "    b = int(input(\"Enter denominator: \"))\n",
    "    result = a / b\n",
    "    print(\"Result:\", result)\n",
    "\n",
    "except ZeroDivisionError as e:\n",
    "    print(\"❌ Cannot divide by zero.\")\n",
    "    logging.error(\"Division by zero attempted: %s\", e)\n"
   ]
  },
  {
   "cell_type": "code",
   "execution_count": null,
   "id": "772b8116-8a12-455a-a531-48054c8b1f79",
   "metadata": {
    "id": "772b8116-8a12-455a-a531-48054c8b1f79",
    "outputId": "409d8987-6712-4841-b2f8-199a9bd81c20"
   },
   "outputs": [
    {
     "name": "stderr",
     "output_type": "stream",
     "text": [
      "DEBUG - Debug message\n",
      "INFO - Info message\n",
      "WARNING - Warning message\n",
      "ERROR - Error message\n"
     ]
    }
   ],
   "source": [
    "#7) How do you log information at different levels (INFO, ERROR, WARNING) in Python using the logging module.\n",
    "import logging\n",
    "\n",
    "logging.basicConfig(\n",
    "    level=logging.DEBUG,\n",
    "    format='%(levelname)s - %(message)s',\n",
    "    handlers=[\n",
    "        logging.FileHandler(\"logfile.txt\"),\n",
    "        logging.StreamHandler()\n",
    "    ],force=True)\n",
    "\n",
    "logging.debug(\"Debug message\")\n",
    "logging.info(\"Info message\")\n",
    "logging.warning(\"Warning message\")\n",
    "logging.error(\"Error message\")\n"
   ]
  },
  {
   "cell_type": "code",
   "execution_count": null,
   "id": "5213c6e4-dbb6-4adc-b320-75c2ecbd3f58",
   "metadata": {
    "id": "5213c6e4-dbb6-4adc-b320-75c2ecbd3f58",
    "outputId": "c6c417c1-1574-43d8-e902-7a17a69ea489"
   },
   "outputs": [
    {
     "name": "stdout",
     "output_type": "stream",
     "text": [
      "❌ Error: The file 'data.txt' was not found.\n"
     ]
    }
   ],
   "source": [
    "#8 Write a program to handle a file opening error using exception handling.\n",
    "try:\n",
    "    file = open(\"data.txt\" , \"r\")\n",
    "    content = file.read()\n",
    "    print(content)\n",
    "except FileNotFoundError:\n",
    "    print(\"❌ Error: The file 'data.txt' was not found.\")"
   ]
  },
  {
   "cell_type": "code",
   "execution_count": null,
   "id": "ef0c623e-5620-459a-9297-6721c1285596",
   "metadata": {
    "id": "ef0c623e-5620-459a-9297-6721c1285596",
    "outputId": "1dd4e750-b677-4d87-a2b3-af98fa6697f2"
   },
   "outputs": [
    {
     "name": "stdout",
     "output_type": "stream",
     "text": [
      "['This my first line', 'This is my second line', 'This is my third line']\n"
     ]
    }
   ],
   "source": [
    "#9 How can you read a file line by line and store its content in a list in Python?\n",
    "with open(\"file_list.txt\",\"w\")as f:\n",
    "  f.write(\"This my first line\\n\")\n",
    "  f.write(\"This is my second line\\n\")\n",
    "  f.write(\"This is my third line\\n\")\n",
    "lines =[]\n",
    "try:\n",
    "  with open(\"file_list.txt\",\"r\")as f:\n",
    "    for line in f:\n",
    "      lines.append(line.strip())\n",
    "except FileNotFoundError:\n",
    "  print(\"ERROR: The file was not found\")\n",
    "print(lines)"
   ]
  },
  {
   "cell_type": "code",
   "execution_count": null,
   "id": "ae50070c-9e85-4793-a15d-297695806850",
   "metadata": {
    "id": "ae50070c-9e85-4793-a15d-297695806850",
    "outputId": "b7707abc-5c54-45d8-eecf-2739b8d03385"
   },
   "outputs": [
    {
     "name": "stdout",
     "output_type": "stream",
     "text": [
      "✅ Data appended successfully.\n",
      "Hey,This is Anand Bharadwaj\n",
      "I'm a Data Engineer\n",
      "also a Entrepreneur \n",
      "This is an appended line.\n",
      "\n"
     ]
    }
   ],
   "source": [
    "#10 How can you append data to an exiting file in python?\n",
    "import os\n",
    "os.chdir(r\"C:\\Users\\unsta\\OneDrive\\Attachments\")\n",
    "with open(\"sample.txt\" , \"a\") as file:\n",
    "    file.write(\"This is an appended line.\\n\")\n",
    "print(\"✅ Data appended successfully.\")\n",
    "with open(\"sample.txt\" , \"r\") as file:\n",
    "    print(file.read())"
   ]
  },
  {
   "cell_type": "code",
   "execution_count": null,
   "id": "15ab8227-7c13-4507-8f38-599def351f47",
   "metadata": {
    "id": "15ab8227-7c13-4507-8f38-599def351f47",
    "outputId": "8ac1c867-daea-45a5-b96f-3c07ba3f3724"
   },
   "outputs": [
    {
     "name": "stdout",
     "output_type": "stream",
     "text": [
      "Error: The key 'city' does not exist in the dictionary.\n"
     ]
    }
   ],
   "source": [
    "#11 Write python program that uses a try-except block to handle an error when attempting to access a dictionary key that doesn't exist.\n",
    "Dict = {\"Name\":\"Anand Bharadwaj\" , \"Age\":22 , \"Course\":\"DA\"}\n",
    "try:\n",
    "    print(\"Student's city:\", Dict[\"city\"])\n",
    "except KeyError:\n",
    "    print(\"Error: The key 'city' does not exist in the dictionary.\")"
   ]
  },
  {
   "cell_type": "code",
   "execution_count": null,
   "id": "33a0c25f-91bb-480b-bbe0-a804d85aa93b",
   "metadata": {
    "id": "33a0c25f-91bb-480b-bbe0-a804d85aa93b",
    "outputId": "8613b47d-806c-49c4-aaee-2a92b64ed69d"
   },
   "outputs": [
    {
     "name": "stdin",
     "output_type": "stream",
     "text": [
      "Enter the number:  10\n",
      "Enter the number:  0\n"
     ]
    },
    {
     "name": "stdout",
     "output_type": "stream",
     "text": [
      "Division by zero is not Possible.\n"
     ]
    }
   ],
   "source": [
    "#12 Write a program that demonstrates using multiple except blocks to handle different types of exceptions.\n",
    "try:\n",
    "    num1 = int(input(\"Enter the number: \"))\n",
    "    num2 = int(input(\"Enter the number: \"))\n",
    "    result = num1/num2\n",
    "    print(\"Result\" , result)\n",
    "except ValueError:\n",
    "    print(\"Invalid value\")\n",
    "except ZeroDivisionError:\n",
    "    print(\"Division by zero is not Possible.\")\n",
    "except IndexError:\n",
    "    print(\"List index out of range.\")\n",
    "except Exception as e:\n",
    "    print(\"An unexpected error occurred:\", e)"
   ]
  },
  {
   "cell_type": "code",
   "execution_count": null,
   "id": "60a5f3e1-912b-423e-9c77-f27251c5b1c4",
   "metadata": {
    "id": "60a5f3e1-912b-423e-9c77-f27251c5b1c4",
    "outputId": "c541a77a-703c-4559-b7b5-8074dd116a1c"
   },
   "outputs": [
    {
     "name": "stdout",
     "output_type": "stream",
     "text": [
      "File does not exist.\n"
     ]
    }
   ],
   "source": [
    "#13 How do you check if a file exists before attempting to read it in python?\n",
    "import os\n",
    "\n",
    "file_path = \"example.txt\"\n",
    "\n",
    "if os.path.exists(file_path):\n",
    "    with open(file_path, \"r\") as file:\n",
    "        content = file.read()\n",
    "        print(content)\n",
    "else:\n",
    "    print(\"File does not exist.\")"
   ]
  },
  {
   "cell_type": "code",
   "execution_count": null,
   "id": "ee9bd484-bc50-4e49-b7af-f849511e2f9f",
   "metadata": {
    "id": "ee9bd484-bc50-4e49-b7af-f849511e2f9f",
    "outputId": "1a85719d-888f-407f-d748-2818d8b54d98"
   },
   "outputs": [
    {
     "name": "stderr",
     "output_type": "stream",
     "text": [
      "INFO , Program started successfully.\n"
     ]
    },
    {
     "name": "stdin",
     "output_type": "stream",
     "text": [
      "Enter a number:  10\n",
      "Enter another number:  0\n"
     ]
    },
    {
     "name": "stderr",
     "output_type": "stream",
     "text": [
      "ERROR , Division by zero error occurred.\n"
     ]
    }
   ],
   "source": [
    "#14 Write a program that uses logging module to log both informational and error messages.\n",
    "import logging\n",
    "logging.basicConfig(level = logging.DEBUG , format = \"%(levelname)s , %(message)s\" ,\n",
    "                   handlers=[logging.FileHandler(\"logfile.txt\"),logging.StreamHandler()],force=True)\n",
    "logging.info(\"Program started successfully.\")\n",
    "try:\n",
    "    num1 = int(input(\"Enter a number: \"))\n",
    "    num2 = int(input(\"Enter another number: \"))\n",
    "    result = num1 / num2\n",
    "    print(\"Result:\", result)\n",
    "    logging.info(\"Division operation completed successfully.\")\n",
    "except ZeroDivisionError:\n",
    "    logging.error(\"Division by zero error occurred.\")\n",
    "except ValueError:\n",
    "    logging.error(\"Invalid value\")\n",
    "except Exception as e:\n",
    "    logging.error(f\"Unexpected error: {e}\")"
   ]
  },
  {
   "cell_type": "code",
   "execution_count": null,
   "id": "07d036db-bc8f-472b-9746-ec16535351b0",
   "metadata": {
    "id": "07d036db-bc8f-472b-9746-ec16535351b0",
    "outputId": "149fbd7e-7da5-4d98-c3bf-135b6977fc85"
   },
   "outputs": [
    {
     "name": "stdout",
     "output_type": "stream",
     "text": [
      "File Content:\n",
      "\n",
      "Hey,This is Anand Bharadwaj\n",
      "I'm a Data Engineer\n",
      "also a Entrepreneur \n",
      "This is an appended line.\n",
      "\n",
      "The Program has been excuted\n"
     ]
    }
   ],
   "source": [
    "#15 Write a python program that prints the content of a file and handles the case when file is empty.\n",
    "file_name = \"sample.txt\"\n",
    "try:\n",
    "    with open(file_name, \"r\") as file:\n",
    "        content = file.read()\n",
    "        if content.strip() == \"\":\n",
    "            print(\"The file is empty.\")\n",
    "        else:\n",
    "            print(\"File Content:\\n\")\n",
    "            print(content)\n",
    "\n",
    "except FileNotFoundError:\n",
    "    print(\"❌ Error: File not found.\")\n",
    "finally:\n",
    "    print(\"The Program has been excuted\")\n"
   ]
  },
  {
   "cell_type": "code",
   "execution_count": null,
   "id": "f1beac52-7130-4009-b45f-ae829fc3cb2c",
   "metadata": {
    "id": "f1beac52-7130-4009-b45f-ae829fc3cb2c",
    "outputId": "6dd07643-cb4f-485c-9a4d-c34cbafc65bf"
   },
   "outputs": [
    {
     "name": "stdout",
     "output_type": "stream",
     "text": [
      "current memory usage is (168148560, 168168818)\n"
     ]
    }
   ],
   "source": [
    "#16 Demonstrate how to use memory profiling to check the memory usage of a small program.\n",
    "import tracemalloc\n",
    "tracemalloc.start()\n",
    "a=[1] * (10**6)\n",
    "b=[2] * (2*10**7)\n",
    "print(f\"current memory usage is {tracemalloc.get_traced_memory()}\")\n",
    "tracemalloc.stop()"
   ]
  },
  {
   "cell_type": "code",
   "execution_count": null,
   "id": "74ec4d7e-4fc2-40c0-959e-6e1ca329727d",
   "metadata": {
    "id": "74ec4d7e-4fc2-40c0-959e-6e1ca329727d",
    "outputId": "49621cae-b24c-49f6-c126-2f3542bf9849"
   },
   "outputs": [
    {
     "name": "stdout",
     "output_type": "stream",
     "text": [
      "1\n",
      "2\n",
      "5\n",
      "8\n",
      "4\n",
      "6\n",
      "8\n",
      "9\n",
      "\n"
     ]
    }
   ],
   "source": [
    "#17 Write a python program to create and write a list of numbers to a file,one number per line.\n",
    "l= [1,2,5,8,4,6,8,9]\n",
    "with open(\"list_num.txt\",\"w\")as f:\n",
    "    for i in l:\n",
    "        f.write(f\"{i}\\n\")\n",
    "with open(\"list_num.txt\",\"r\") as f:\n",
    "            print(f.read())"
   ]
  },
  {
   "cell_type": "code",
   "execution_count": 1,
   "id": "6a98c047-c01a-4a9f-beec-c5a338b018c6",
   "metadata": {
    "colab": {
     "base_uri": "https://localhost:8080/"
    },
    "id": "6a98c047-c01a-4a9f-beec-c5a338b018c6",
    "outputId": "40cd9e36-8e5c-425b-e6dc-a229d372beb0"
   },
   "outputs": [
    {
     "name": "stderr",
     "output_type": "stream",
     "text": [
      "INFO:mylogger:This is a test log\n"
     ]
    }
   ],
   "source": [
    "#18 How would you implement a basic logging setup that logs to a file with rotation after 1MB.\n",
    "import logging\n",
    "from logging.handlers import RotatingFileHandler\n",
    "logger = logging.getLogger(\"mylogger\")\n",
    "handler = RotatingFileHandler(\"my_log.log\", maxBytes= 1048576,\n",
    "backupCount =3)\n",
    "logger.addHandler(handler)\n",
    "logger.setLevel(logging.INFO)\n",
    "logger.info(\"This is a test log\")"
   ]
  },
  {
   "cell_type": "code",
   "execution_count": 4,
   "id": "28da4999-5a52-45b1-8f67-7edd67348882",
   "metadata": {
    "colab": {
     "base_uri": "https://localhost:8080/"
    },
    "id": "28da4999-5a52-45b1-8f67-7edd67348882",
    "outputId": "0f7cad6b-5ada-4c59-8ea6-39009f536ecd"
   },
   "outputs": [
    {
     "name": "stdout",
     "output_type": "stream",
     "text": [
      "Key not found: 'time'\n",
      "Index not found: list index out of range\n"
     ]
    }
   ],
   "source": [
    "#19 Write a program that handles both IndexError and KeyError using try-except block.\n",
    "d = {\"year\": 2025, \"month\": \"July\", \"Day\": \"Sunday\"}\n",
    "l = [1, 4, 7, 9]\n",
    "\n",
    "# Handle KeyError using LookupError\n",
    "try:\n",
    "    d[\"time\"]  # Key \"time\" does not exist\n",
    "except LookupError as e:\n",
    "    print(\"Key not found:\", e)\n",
    "\n",
    "# Handle IndexError using LookupError\n",
    "try:\n",
    "    l[4]  # Index 4 is out of range\n",
    "except LookupError as e:\n",
    "    print(\"Index not found:\", e)\n"
   ]
  },
  {
   "cell_type": "code",
   "execution_count": 2,
   "id": "F199Lf9uHQ-U",
   "metadata": {
    "colab": {
     "base_uri": "https://localhost:8080/",
     "height": 176
    },
    "id": "F199Lf9uHQ-U",
    "outputId": "a06bdc85-4f28-4684-e10c-fe32fd6011ee"
   },
   "outputs": [
    {
     "name": "stdout",
     "output_type": "stream",
     "text": [
      "Hey,This is Anand Bharadwaj\n",
      "I'm a Data Engineer\n",
      "also a Entrepreneur \n",
      "This is an appended line.\n",
      "\n"
     ]
    }
   ],
   "source": [
    "#20 How do you open a file and read its contents using a context manager in python ?\n",
    "import os\n",
    "os.chdir(r\"C:\\Users\\unsta\\OneDrive\\Attachments\")\n",
    "with open(\"sample.txt\",\"r\") as f:\n",
    "    print(f.read())"
   ]
  },
  {
   "cell_type": "code",
   "execution_count": 4,
   "id": "6eSW4jP7H9zt",
   "metadata": {
    "id": "6eSW4jP7H9zt"
   },
   "outputs": [
    {
     "name": "stdin",
     "output_type": "stream",
     "text": [
      "Enter word to be searched:  Python\n"
     ]
    },
    {
     "name": "stdout",
     "output_type": "stream",
     "text": [
      "🔍 Occurrences of the word 'python': 0\n"
     ]
    }
   ],
   "source": [
    "#21 Write a python program that reads a file and prints the number of occurences of a specific word.\n",
    "# Write some lines to the file\n",
    "with open(\"word_file.txt\", \"w\") as f:\n",
    "    f.write(\"People have a hard time letting go of their suffering\\n\")\n",
    "    f.write(\"There is an important distinction when speaking about suffering\\n\")\n",
    "    f.write(\"The root cause of all the suffering and how to end it\\n\")\n",
    "\n",
    "# Ask user to enter a word to search\n",
    "word = input(\"Enter word to be searched: \").lower()  # Convert input to lowercase for case-insensitive matching\n",
    "\n",
    "count = 0\n",
    "\n",
    "# Read the file and count the occurrences\n",
    "with open(\"word_file.txt\", \"r\") as file:\n",
    "    for line in file:\n",
    "        words = line.lower().split()  # Split line into words and convert to lowercase\n",
    "        for w in words:\n",
    "            w = w.strip(\",.?!;:'\\\"\")\n",
    "            if w == word:\n",
    "                count += 1\n",
    "\n",
    "# Print the result\n",
    "print(f\"🔍 Occurrences of the word '{word}': {count}\")"
   ]
  },
  {
   "cell_type": "code",
   "execution_count": 5,
   "id": "994c788b-ebce-4eae-ab0a-e8f0c5608e5e",
   "metadata": {},
   "outputs": [
    {
     "name": "stdout",
     "output_type": "stream",
     "text": [
      "📄 File content:\n",
      " Hey,This is Anand Bharadwaj\n",
      "I'm a Data Engineer\n",
      "also a Entrepreneur \n",
      "This is an appended line.\n",
      "\n"
     ]
    }
   ],
   "source": [
    "#22 How can you check if a file is empty before attempting to read its contents ?\n",
    "with open(\"sample.txt\", \"r\") as file:\n",
    "    content = file.read()\n",
    "    if content.strip() == \"\":\n",
    "        print(\"⚠️ The file is empty.\")\n",
    "    else:\n",
    "        print(\"📄 File content:\\n\", content)\n"
   ]
  },
  {
   "cell_type": "code",
   "execution_count": 10,
   "id": "0a421d2f-7d36-4059-9cca-a9be7b8c056b",
   "metadata": {},
   "outputs": [
    {
     "name": "stdin",
     "output_type": "stream",
     "text": [
      "Enter numerator:  10\n",
      "Enter denominator:  0\n"
     ]
    },
    {
     "name": "stderr",
     "output_type": "stream",
     "text": [
      "ERROR: Cannot divide by zero: division by zero\n"
     ]
    }
   ],
   "source": [
    "#23 Write a python program that writes to a log file  when an error occurs during the handling.\n",
    "import logging\n",
    "\n",
    "# Create a logger object\n",
    "logger = logging.getLogger(\"error_logger\")\n",
    "logger.setLevel(logging.ERROR)\n",
    "\n",
    "if not logger.handlers:\n",
    "    file_handler = logging.FileHandler(\"error_log.txt\")\n",
    "    console_handler = logging.StreamHandler()\n",
    "\n",
    "    formatter = logging.Formatter('%(levelname)s: %(message)s')\n",
    "    file_handler.setFormatter(formatter)\n",
    "    console_handler.setFormatter(formatter)\n",
    "\n",
    "    logger.addHandler(file_handler)\n",
    "    logger.addHandler(console_handler)\n",
    "\n",
    "try:\n",
    "    a = int(input(\"Enter numerator: \"))\n",
    "    b = int(input(\"Enter denominator: \"))\n",
    "    result = a / b\n",
    "    print(\"Result:\", result)\n",
    "\n",
    "except ZeroDivisionError as e:\n",
    "    logger.error(\"Cannot divide by zero: %s\", e)\n",
    "\n",
    "except ValueError as e:\n",
    "    logger.error(\"Invalid input: %s\", e)\n",
    "\n",
    "except Exception as e:\n",
    "    logger.error(\"Unexpected error: %s\", e)\n"
   ]
  },
  {
   "cell_type": "code",
   "execution_count": null,
   "id": "e4be3e76-9582-45f3-902d-5446758b9211",
   "metadata": {},
   "outputs": [],
   "source": []
  }
 ],
 "metadata": {
  "colab": {
   "provenance": []
  },
  "kernelspec": {
   "display_name": "Python 3 (ipykernel)",
   "language": "python",
   "name": "python3"
  },
  "language_info": {
   "codemirror_mode": {
    "name": "ipython",
    "version": 3
   },
   "file_extension": ".py",
   "mimetype": "text/x-python",
   "name": "python",
   "nbconvert_exporter": "python",
   "pygments_lexer": "ipython3",
   "version": "3.13.5"
  }
 },
 "nbformat": 4,
 "nbformat_minor": 5
}
